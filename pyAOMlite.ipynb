{
 "cells": [
  {
   "cell_type": "code",
   "execution_count": null,
   "metadata": {},
   "outputs": [],
   "source": [
    "from src.pyAOM_utils import *"
   ]
  },
  {
   "cell_type": "code",
   "execution_count": null,
   "metadata": {},
   "outputs": [],
   "source": [
    "# STO parameters for GTO-STO projection step\n",
    "STO_proj_dict={\n",
    "    'H':{'STOs':1  ,'1s':1.0000},\n",
    "    'C':{'STOs':1+3,'2s':1.6083,'2p':1.442657},\n",
    "    'N':{'STOs':1+3,'2s':1.9237,'2p':1.646703},\n",
    "    'O':{'STOs':1+3,'2s':2.2458,'2p':1.858823},\n",
    "    'F':{'STOs':1+3,'2s':2.5638,'2p':2.136394},\n",
    "    'S':{'STOs':1+3,'3s':2.1223,'3p':1.651749},\n",
    "}\n",
    "# general configuration\n",
    "config={\n",
    "    'label': 'TTF',\n",
    "    'single_mol_xyz': 'single_molecules/TTF.xyz',\n",
    "    'basis': 'DZVP-GTH',\n",
    "    'potential': 'GTH-PBE',\n",
    "    'MO': 26,\n",
    "    'cp2k_template': 'templates/sp_GGA_template.inp',\n",
    "    'cp2k_basis_file': 'cp2k_files/GTH_BASIS_SETS',\n",
    "}\n",
    "# CP2K DFT parameters\n",
    "CP2K_QS_GGA_parameters={\n",
    "    'PROJECT_NAME': 'TTF_PBE_DZVP-GTH',\n",
    "    'XC_FUNCTIONAL': 'PBE',\n",
    "    'BASIS_SET_FILE_NAME': 'GTH_BASIS_SETS',\n",
    "    'POTENTIAL_FILE_NAME': 'POTENTIAL',\n",
    "    'MGRID_CUTOFF': 450.0,\n",
    "    'MGRID_REL_CUTOFF': 75.0,\n",
    "    'SCF_MAX_SCF': 200,\n",
    "    'MO_CUBES_NHOMO': 6,\n",
    "    'MO_CUBES_NLUMO': 6,\n",
    "    'MO_CUBES_STRIDE': 5,\n",
    "}\n",
    "# default cp2k:qs output path\n",
    "cp2k_out=f'cp2k_output/{CP2K_QS_GGA_parameters[\"PROJECT_NAME\"]}.out'"
   ]
  },
  {
   "cell_type": "code",
   "execution_count": null,
   "metadata": {},
   "outputs": [],
   "source": [
    "# read a single molecule xyz file\n",
    "mymol=single_molecule(config['single_mol_xyz'])\n",
    "# prepare CP2K:QS input file for single molecule\n",
    "mymol.prep_cp2k_single(CP2K_QS_GGA_parameters,config['label'],config['cp2k_template'],config['basis'],config['potential'])\n",
    "print(f'Note: make sure CP2K:QS output gets in \"{cp2k_out}\"')"
   ]
  },
  {
   "cell_type": "code",
   "execution_count": null,
   "metadata": {},
   "outputs": [],
   "source": [
    "# provided we carried out the DFT calculation and placed the CP2K output in the appropriate directory,\n",
    "# read CP2K:QS output and retrieve MO info\n",
    "mymol.get_cp2k_info(config['MO'],cp2k_out,config['cp2k_basis_file'],config['basis'])"
   ]
  },
  {
   "cell_type": "code",
   "execution_count": null,
   "metadata": {},
   "outputs": [],
   "source": [
    "# STO init and overlap matrix calculation\n",
    "mymol.initialize_STOs(STO_proj_dict)\n",
    "# carry out GTO->STO projection\n",
    "mymol.project()"
   ]
  },
  {
   "cell_type": "code",
   "execution_count": null,
   "metadata": {},
   "outputs": [],
   "source": [
    "# store AOM coefficients\n",
    "mymol.save_AOM(config['label'])"
   ]
  },
  {
   "cell_type": "code",
   "execution_count": null,
   "metadata": {},
   "outputs": [],
   "source": [
    "# projection completeness\n",
    "mymol.orb_compl_dict"
   ]
  },
  {
   "cell_type": "code",
   "execution_count": null,
   "metadata": {},
   "outputs": [],
   "source": [
    "# cube file preview; optional\n",
    "mymol.cube_preview(STO_proj_dict,f'output/{config[\"label\"]}/{config[\"label\"]}_{config[\"MO\"]}.cube')"
   ]
  },
  {
   "cell_type": "code",
   "execution_count": null,
   "metadata": {},
   "outputs": [],
   "source": [
    "# define STO parameters for AOM calculations\n",
    "AOM_dict={\n",
    "    'H':{'STOs':1  ,'1s':1.0000},\n",
    "    'C':{'STOs':1+3,'2s':1.6083,'2p':1.385600},\n",
    "    'N':{'STOs':1+3,'2s':1.9237,'2p':1.617102},\n",
    "    'O':{'STOs':1+3,'2s':2.2458,'2p':1.505135},\n",
    "    'F':{'STOs':1+3,'2s':2.5638,'2p':1.665190},\n",
    "    'S':{'STOs':1+3,'3s':2.1223,'3p':1.641119},\n",
    "}"
   ]
  },
  {
   "cell_type": "code",
   "execution_count": null,
   "metadata": {},
   "outputs": [],
   "source": [
    "# locate dimers: define the directory with dimers\n",
    "# suggested file structure: create a directory with the molecule name in 'dimers'\n",
    "# and use the following naming for each dimer: <name>_<No>_<comment>.xyz\n",
    "dimer_dir='dimers/TTF'\n",
    "# define the AOM files for both dimer fragments\n",
    "frag1_AOM_file='output/TTF/AOM_COEFF.dat'\n",
    "frag2_AOM_file='output/TTF/AOM_COEFF.dat'\n",
    "#define neighbors files\n",
    "frag1_NEIGH_file='output/TTF/AOM_NEIGH.dat'\n",
    "frag2_NEIGH_file='output/TTF/AOM_NEIGH.dat'\n",
    "# define MOs\n",
    "frag1_MO=26\n",
    "frag2_MO=26\n",
    "#--------------------------------------------------------------------------------\n",
    "Sab_array=[]\n",
    "for file in sorted([i for i in os.listdir(dimer_dir) if i.endswith('.xyz')==True]):\n",
    "    dimer_xyz_file=f'{dimer_dir}/{file}'\n",
    "    val=Sab(dimer_xyz_file,frag1_AOM_file,frag2_AOM_file,frag1_NEIGH_file,frag2_NEIGH_file,frag1_MO,frag2_MO,AOM_dict)\n",
    "    Sab_array.append(val)\n",
    "    print(f'{file} Sab: {val}')"
   ]
  },
  {
   "cell_type": "code",
   "execution_count": null,
   "metadata": {},
   "outputs": [],
   "source": [
    "# TTF-specific test\n",
    "import matplotlib.pyplot as plt\n",
    "import seaborn as sns\n",
    "sns.set(color_codes=True)\n",
    "sns.set_context(\"talk\")\n",
    "# this is the generic C scaling constant for AOM\n",
    "C=9779.738447557258\n",
    "# this is an empirical scaling for PBE/DZVP-GTH CP2K POD HAB as to correlate with ab-initio reference data\n",
    "HAB_scale=1.325\n",
    "# TTF PBE/DZVP-GTH POD couplings\n",
    "CP2K_HAB=[410.72,\n",
    " 200.907,\n",
    " 99.4675,\n",
    " 50.0264,\n",
    " 146.124,\n",
    " 60.6216,\n",
    " 80.0497,\n",
    " 0.0032636,\n",
    " 4.14261e-05,\n",
    " 95.4641,\n",
    " 3.01126]\n",
    "# plot!\n",
    "plt.plot([abs(i)*C for i in Sab_array],[i*HAB_scale for i in CP2K_HAB],'*')\n",
    "plt.plot([0,600],[0,600])\n",
    "plt.xlabel('Predicted AOM HAB (meV)')\n",
    "plt.ylabel('CP2K POD HAB (scaled by 1.325) (meV)');"
   ]
  }
 ],
 "metadata": {
  "kernelspec": {
   "display_name": "Python 3",
   "language": "python",
   "name": "python3"
  },
  "language_info": {
   "codemirror_mode": {
    "name": "ipython",
    "version": 3
   },
   "file_extension": ".py",
   "mimetype": "text/x-python",
   "name": "python",
   "nbconvert_exporter": "python",
   "pygments_lexer": "ipython3",
   "version": "3.9.4"
  }
 },
 "nbformat": 4,
 "nbformat_minor": 4
}
